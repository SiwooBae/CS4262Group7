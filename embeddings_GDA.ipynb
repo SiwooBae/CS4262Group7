{
 "cells": [
  {
   "cell_type": "code",
   "execution_count": 1,
   "metadata": {},
   "outputs": [],
   "source": [
    "import pandas as pd\n",
    "import numpy as np\n",
    "import matplotlib.pyplot as plt\n",
    "from tqdm import tqdm\n",
    "from sklearn.gaussian_process import GaussianProcessClassifier"
   ]
  },
  {
   "cell_type": "code",
   "execution_count": 2,
   "metadata": {},
   "outputs": [],
   "source": [
    "df = pd.read_csv('./embeddings_combined.csv')"
   ]
  },
  {
   "cell_type": "code",
   "execution_count": 3,
   "metadata": {},
   "outputs": [],
   "source": [
    "# Standardize the data before Using PCA to reduce dimensions\n",
    "from sklearn.preprocessing import StandardScaler\n",
    "\n",
    "embedding_cols = [str(i) for i in range(1024)]\n",
    "scaler = StandardScaler()\n",
    "df[embedding_cols] = scaler.fit_transform(df[embedding_cols].values)"
   ]
  },
  {
   "cell_type": "code",
   "execution_count": 4,
   "metadata": {},
   "outputs": [],
   "source": [
    "# Dimensionality Reduction using PCA\n",
    "from sklearn.decomposition import PCA\n",
    "\n",
    "PCA_reducer = PCA(n_components=512)\n",
    "pca_embeddings = PCA_reducer.fit_transform(df[embedding_cols])"
   ]
  },
  {
   "cell_type": "code",
   "execution_count": 5,
   "metadata": {},
   "outputs": [
    {
     "name": "stdout",
     "output_type": "stream",
     "text": [
      "12\n"
     ]
    }
   ],
   "source": [
    "from sklearn.preprocessing import LabelEncoder\n",
    "\n",
    "label_encoder = LabelEncoder()\n",
    "df['sector_encoded'] = label_encoder.fit_transform(df['sector'])\n",
    "num_classes = len(df['sector'].unique())\n",
    "\n",
    "print(num_classes)"
   ]
  },
  {
   "cell_type": "code",
   "execution_count": 6,
   "metadata": {},
   "outputs": [],
   "source": [
    "X = df[embedding_cols].values\n",
    "# X = pca_embeddings\n",
    "y = df['sector_encoded'].values"
   ]
  },
  {
   "cell_type": "code",
   "execution_count": 7,
   "metadata": {},
   "outputs": [
    {
     "name": "stdout",
     "output_type": "stream",
     "text": [
      "Data split into training and test sets.\n",
      "7615 30457 7615 30457\n"
     ]
    }
   ],
   "source": [
    "from sklearn.model_selection import train_test_split\n",
    "\n",
    "# Splitting the dataset into the Training set and Test set\n",
    "X_train, X_test, y_train, y_test = train_test_split(X, y, test_size = 0.2, random_state = 42)\n",
    "\n",
    "print(\"Data split into training and test sets.\")\n",
    "\n",
    "print(len(X_test), len( X_train), len(y_test), len(y_train))"
   ]
  },
  {
   "cell_type": "code",
   "execution_count": 8,
   "metadata": {},
   "outputs": [],
   "source": [
    "# from sklearn.base import BaseEstimator, ClassifierMixin\n",
    "# import numpy as np\n",
    "\n",
    "# class CustomGDA(BaseEstimator, ClassifierMixin):\n",
    "#     def __init__(self):\n",
    "#         pass\n",
    "\n",
    "#     def fit(self, X, y):\n",
    "#         self.classes_ = np.unique(y)\n",
    "#         n_classes = len(self.classes_)\n",
    "#         n_features = X.shape[1]\n",
    "\n",
    "#         self.phi_ = np.zeros(n_classes)\n",
    "#         self.mu_ = np.zeros((n_classes, n_features))\n",
    "#         self.sigma_ = np.zeros((n_features, n_features))\n",
    "\n",
    "#         for i, cls in enumerate(self.classes_):\n",
    "#             X_cls = X[y == cls]\n",
    "#             self.phi_[i] = X_cls.shape[0] / X.shape[0]\n",
    "#             self.mu_[i] = np.mean(X_cls, axis=0)\n",
    "\n",
    "#         for cls in self.classes_:\n",
    "#             X_cls = X[y == cls]\n",
    "#             self.sigma_ += np.cov(X_cls, rowvar=False) * (X_cls.shape[0] - 1)\n",
    "\n",
    "#         self.sigma_ /= (X.shape[0] - n_classes)\n",
    "#         self.sigma_inv_ = np.linalg.inv(self.sigma_)\n",
    "#         return self\n",
    "\n",
    "#     def predict(self, X):\n",
    "#         n_classes = len(self.classes_)\n",
    "#         n_samples = X.shape[0]\n",
    "#         probs = np.zeros((n_samples, n_classes))\n",
    "\n",
    "#         for i in range(n_classes):\n",
    "#             diff = X - self.mu_[i]\n",
    "#             probs[:, i] = np.log(self.phi_[i]) - 0.5 * np.diag(diff @ self.sigma_inv_ @ diff.T)\n",
    "\n",
    "#         return self.classes_[np.argmax(probs, axis=1)]\n",
    "    \n",
    "from sklearn.base import BaseEstimator, ClassifierMixin\n",
    "from joblib import Parallel, delayed\n",
    "import numpy as np\n",
    "\n",
    "class CustomGDA(BaseEstimator, ClassifierMixin):\n",
    "    def __init__(self, n_jobs=1):\n",
    "        self.n_jobs = n_jobs  # Number of parallel jobs\n",
    "\n",
    "    def fit(self, X, y):\n",
    "        self.classes_ = np.unique(y)\n",
    "        n_features = X.shape[1]\n",
    "\n",
    "        # Parallel computation of class-specific parameters\n",
    "        results = Parallel(n_jobs=self.n_jobs)(delayed(self.compute_class_stats)(X, y, cls) for cls in self.classes_)\n",
    "\n",
    "        # Unpack results\n",
    "        self.mu_ = np.array([res[0] for res in results])\n",
    "        self.phi_ = np.array([res[1] for res in results])\n",
    "\n",
    "        # Average covariance matrix across all classes\n",
    "        self.sigma_ = np.mean([res[2] for res in results], axis=0)\n",
    "\n",
    "    def compute_class_stats(self, X, y, cls):\n",
    "        X_cls = X[y == cls]\n",
    "        mu = np.mean(X_cls, axis=0)\n",
    "        phi = X_cls.shape[0] / X.shape[0]\n",
    "        sigma = np.cov(X_cls, rowvar=False)  # Assumes full covariance matrix; modify if assuming diagonal covariance\n",
    "        return mu, phi, sigma\n",
    "\n",
    "    def predict(self, X):\n",
    "        # Probabilities for each class, computed using the Gaussian distribution's properties\n",
    "        # This part can also be parallelized if necessary\n",
    "        probs = np.array([self.compute_probability(X, i) for i in range(len(self.classes_))]).T\n",
    "        return self.classes_[np.argmax(probs, axis=1)]\n",
    "\n",
    "    def compute_probability(self, X, idx):\n",
    "        # Example probability computation, this should be adapted to your actual discriminative function\n",
    "        mu = self.mu_[idx]\n",
    "        sigma_inv = np.linalg.inv(self.sigma_)\n",
    "        return -0.5 * np.sum((X - mu) @ sigma_inv * (X - mu), axis=1) + np.log(self.phi_[idx])\n",
    "\n"
   ]
  },
  {
   "cell_type": "code",
   "execution_count": 9,
   "metadata": {},
   "outputs": [
    {
     "name": "stderr",
     "output_type": "stream",
     "text": [
      "/Users/d.ark/anaconda3/lib/python3.10/site-packages/sklearn/model_selection/_split.py:700: UserWarning: The least populated class in y has only 1 members, which is less than n_splits=5.\n",
      "  warnings.warn(\n",
      "/Users/d.ark/anaconda3/lib/python3.10/site-packages/numpy/core/_methods.py:164: VisibleDeprecationWarning: Creating an ndarray from ragged nested sequences (which is a list-or-tuple of lists-or-tuples-or ndarrays with different lengths or shapes) is deprecated. If you meant to do this, you must specify 'dtype=object' when creating the ndarray.\n",
      "  arr = asanyarray(a)\n",
      "/Users/d.ark/anaconda3/lib/python3.10/site-packages/numpy/core/_methods.py:164: VisibleDeprecationWarning: Creating an ndarray from ragged nested sequences (which is a list-or-tuple of lists-or-tuples-or ndarrays with different lengths or shapes) is deprecated. If you meant to do this, you must specify 'dtype=object' when creating the ndarray.\n",
      "  arr = asanyarray(a)\n",
      "/Users/d.ark/anaconda3/lib/python3.10/site-packages/numpy/core/_methods.py:164: VisibleDeprecationWarning: Creating an ndarray from ragged nested sequences (which is a list-or-tuple of lists-or-tuples-or ndarrays with different lengths or shapes) is deprecated. If you meant to do this, you must specify 'dtype=object' when creating the ndarray.\n",
      "  arr = asanyarray(a)\n",
      "/Users/d.ark/anaconda3/lib/python3.10/site-packages/numpy/core/_methods.py:164: VisibleDeprecationWarning: Creating an ndarray from ragged nested sequences (which is a list-or-tuple of lists-or-tuples-or ndarrays with different lengths or shapes) is deprecated. If you meant to do this, you must specify 'dtype=object' when creating the ndarray.\n",
      "  arr = asanyarray(a)\n"
     ]
    },
    {
     "name": "stdout",
     "output_type": "stream",
     "text": [
      "Cross-validated accuracy scores: [0.78555483 0.80525279 0.8048332  0.80601524 0.79353822]\n",
      "Mean accuracy: 0.7990388545411993\n"
     ]
    },
    {
     "name": "stderr",
     "output_type": "stream",
     "text": [
      "/Users/d.ark/anaconda3/lib/python3.10/site-packages/numpy/core/_methods.py:164: VisibleDeprecationWarning: Creating an ndarray from ragged nested sequences (which is a list-or-tuple of lists-or-tuples-or ndarrays with different lengths or shapes) is deprecated. If you meant to do this, you must specify 'dtype=object' when creating the ndarray.\n",
      "  arr = asanyarray(a)\n"
     ]
    }
   ],
   "source": [
    "\n",
    "from sklearn.model_selection import cross_val_score\n",
    "\n",
    "model = CustomGDA()\n",
    "\n",
    "\n",
    "# Perform 5-fold cross-validation\n",
    "scores = cross_val_score(model, X, y, cv=5, scoring='accuracy')\n",
    "\n",
    "print(f'Cross-validated accuracy scores: {scores}')\n",
    "print(f'Mean accuracy: {scores.mean()}')\n",
    "\n",
    "model.fit(X_train, y_train)\n",
    "\n",
    "y_pred = model.predict(X_test)\n",
    "\n",
    "\n",
    "\n"
   ]
  },
  {
   "cell_type": "code",
   "execution_count": 10,
   "metadata": {},
   "outputs": [
    {
     "data": {
      "image/png": "[encoded data removed]",
      "text/plain": [
       "<Figure size 1000x800 with 2 Axes>"
      ]
     },
     "metadata": {},
     "output_type": "display_data"
    },
    {
     "name": "stdout",
     "output_type": "stream",
     "text": [
      "Accuracy: 0.8056\n",
      "F1 Score: 0.8058\n",
      "Recall: 0.8056\n"
     ]
    }
   ],
   "source": [
    "import matplotlib.pyplot as plt\n",
    "import seaborn as sns\n",
    "from sklearn.metrics import confusion_matrix, accuracy_score, f1_score, recall_score\n",
    "\n",
    "cm = confusion_matrix(y_test, y_pred)\n",
    "accuracy = accuracy_score(y_test, y_pred)\n",
    "f1 = f1_score(y_test, y_pred, average='weighted')\n",
    "rs = recall_score(y_test, y_pred, average='weighted')\n",
    "\n",
    "plt.figure(figsize=(10, 8))\n",
    "sns.heatmap(cm, annot=True, fmt='d', cmap='Blues')\n",
    "#sns.heatmap(cm, annot=True, fmt='d', cmap='Blues', xticklabels=label_encoder.classes_, yticklabels=label_encoder.classes_)\n",
    "plt.xlabel('Predicted Labels')\n",
    "plt.ylabel('True Labels')\n",
    "plt.title('Confusion Matrix')\n",
    "plt.show()\n",
    "\n",
    "print(f\"Accuracy: {accuracy:.4f}\")\n",
    "print(f\"F1 Score: {f1:.4f}\")\n",
    "print(f\"Recall: {rs:.4f}\")\n",
    "\n",
    "\n"
   ]
  },
  {
   "cell_type": "code",
   "execution_count": 11,
   "metadata": {},
   "outputs": [],
   "source": [
    "from sklearn.preprocessing import LabelEncoder\n",
    "\n",
    "label_encoder_industry = LabelEncoder()\n",
    "df['industry_encoded'] = label_encoder_industry.fit_transform(df['industry'])\n",
    "num_classes = len(df['industry'].unique())"
   ]
  },
  {
   "cell_type": "code",
   "execution_count": 12,
   "metadata": {},
   "outputs": [],
   "source": [
    "#X_industry = df[embedding_cols].values\n",
    "X_industry = df[embedding_cols].values\n",
    "\n",
    "y_industry = df['industry_encoded'].values"
   ]
  },
  {
   "cell_type": "code",
   "execution_count": 13,
   "metadata": {},
   "outputs": [
    {
     "name": "stdout",
     "output_type": "stream",
     "text": [
      "Data split into training and test sets.\n",
      "7615 30457 7615 30457\n"
     ]
    }
   ],
   "source": [
    "from sklearn.model_selection import train_test_split\n",
    "\n",
    "# Splitting the dataset into the Training set and Test set\n",
    "X_train_industry, X_test_industry, y_train_industry, y_test_industry = train_test_split(X_industry, y_industry, test_size = 0.2, random_state = 42)\n",
    "\n",
    "print(\"Data split into training and test sets.\")\n",
    "\n",
    "print(len(X_test_industry), len( X_train_industry), len(y_test_industry), len(y_train_industry))"
   ]
  },
  {
   "cell_type": "code",
   "execution_count": 14,
   "metadata": {},
   "outputs": [
    {
     "name": "stderr",
     "output_type": "stream",
     "text": [
      "/Users/d.ark/anaconda3/lib/python3.10/site-packages/numpy/core/_methods.py:164: VisibleDeprecationWarning: Creating an ndarray from ragged nested sequences (which is a list-or-tuple of lists-or-tuples-or ndarrays with different lengths or shapes) is deprecated. If you meant to do this, you must specify 'dtype=object' when creating the ndarray.\n",
      "  arr = asanyarray(a)\n"
     ]
    }
   ],
   "source": [
    "from sklearn.model_selection import cross_val_score\n",
    "\n",
    "model_industry = CustomGDA()\n",
    "\n",
    "\n",
    "model_industry.fit(X_train_industry, y_train_industry)\n",
    "\n",
    "y_pred_industry = model_industry.predict(X_test_industry)\n"
   ]
  },
  {
   "cell_type": "code",
   "execution_count": 15,
   "metadata": {},
   "outputs": [
    {
     "name": "stdout",
     "output_type": "stream",
     "text": [
      "                                                precision    recall  f1-score   support\n",
      "\n",
      "                          Advertising Agencies     0.5366    0.7213    0.6154        61\n",
      "                           Aerospace & Defense     0.7358    0.7358    0.7358        53\n",
      "                           Agricultural Inputs     0.7838    0.7436    0.7632        39\n",
      "                                      Airlines     0.6923    1.0000    0.8182         9\n",
      "                       Airports & Air Services     0.5385    0.7000    0.6087        10\n",
      "                                      Aluminum     0.7500    0.8571    0.8000        14\n",
      "                         Apparel Manufacturing     0.6842    0.7222    0.7027        72\n",
      "                                Apparel Retail     0.4375    0.4242    0.4308        33\n",
      "                          Application Software     0.0000    0.0000    0.0000         1\n",
      "                              Asset Management     0.8772    0.7246    0.7937       207\n",
      "                      Auto & Truck Dealerships     0.5938    0.6129    0.6032        31\n",
      "                            Auto Manufacturers     0.6000    0.7895    0.6818        19\n",
      "                                    Auto Parts     0.7538    0.6950    0.7232       141\n",
      "                      Automobiles & Components     0.0000    0.0000    0.0000         1\n",
      "                                         Banks     0.2857    0.6667    0.4000         3\n",
      "                             Banks—Diversified     0.2059    0.8750    0.3333         8\n",
      "                                Banks—Regional     0.9775    0.8346    0.9004       260\n",
      "                             Beverages—Brewers     0.5000    0.7000    0.5833        10\n",
      "                       Beverages—Non-Alcoholic     0.5556    0.6522    0.6000        23\n",
      "             Beverages—Wineries & Distilleries     0.7826    0.8182    0.8000        22\n",
      "                                 Biotechnology     0.8711    0.7626    0.8133       257\n",
      "                                  Broadcasting     0.6250    0.6452    0.6349        31\n",
      "                            Building Materials     0.8036    0.7377    0.7692        61\n",
      "                 Building Products & Equipment     0.5176    0.6769    0.5867        65\n",
      "                 Business Equipment & Supplies     0.4444    0.5455    0.4898        22\n",
      "                                 Capital Goods     0.0000    0.0000    0.0000        14\n",
      "                               Capital Markets     0.5859    0.5800    0.5829       100\n",
      "                                     Chemicals     0.4659    0.5256    0.4940        78\n",
      "                                   Coking Coal     0.7500    0.3000    0.4286        10\n",
      "           Commercial  & Professional Services     0.0000    0.0000    0.0000         2\n",
      "                       Communication Equipment     0.6220    0.5930    0.6071        86\n",
      "                             Computer Hardware     0.4474    0.3148    0.3696        54\n",
      "                                 Confectioners     0.8235    0.8750    0.8485        16\n",
      "                                 Conglomerates     0.2245    0.2391    0.2316        92\n",
      "                           Consulting Services     0.2258    0.2800    0.2500        25\n",
      "                   Consumer Durables & Apparel     0.0000    0.0000    0.0000         4\n",
      "                          Consumer Electronics     0.3673    0.5455    0.4390        33\n",
      "                             Consumer Services     0.0000    0.0000    0.0000         2\n",
      "                                        Copper     0.4583    0.5238    0.4889        21\n",
      "                               Credit Services     0.5976    0.7424    0.6622        66\n",
      "                             Department Stores     0.8387    0.5652    0.6753        46\n",
      "                        Diagnostics & Research     0.4483    0.7879    0.5714        33\n",
      "                               Discount Stores     0.5000    0.1667    0.2500         6\n",
      "                        Diversified Financials     0.0000    0.0000    0.0000         3\n",
      "                         Diversified Machinery     0.0000    0.0000    0.0000         1\n",
      "                    Drug Manufacturers—General     0.2093    0.4286    0.2813        21\n",
      "        Drug Manufacturers—Specialty & Generic     0.6133    0.6099    0.6116       182\n",
      "                 Education & Training Services     0.7419    0.9020    0.8142        51\n",
      "                  Electrical Equipment & Parts     0.5076    0.6634    0.5751       101\n",
      "                         Electronic Components     0.6033    0.5659    0.5840       129\n",
      "                Electronic Gaming & Multimedia     0.6863    0.8333    0.7527        42\n",
      "           Electronics & Computer Distribution     0.2727    0.2727    0.2727        22\n",
      "                                        Energy     0.0000    0.0000    0.0000         3\n",
      "                    Engineering & Construction     0.7333    0.6832    0.7074       161\n",
      "                                 Entertainment     0.5067    0.6032    0.5507        63\n",
      "           Farm & Heavy Construction Machinery     0.5000    0.6667    0.5714        30\n",
      "                                 Farm Products     0.5976    0.8305    0.6950        59\n",
      "                       Financial Conglomerates     0.0500    0.0769    0.0606        13\n",
      "              Financial Data & Stock Exchanges     0.5000    0.6364    0.5600        11\n",
      "                      Food & Staples Retailing     0.0000    0.0000    0.0000         2\n",
      "                             Food Distribution     0.1667    0.1667    0.1667        18\n",
      "                      Food, Beverage & Tobacco     0.0000    0.0000    0.0000         5\n",
      "                        Footwear & Accessories     0.6585    0.9000    0.7606        30\n",
      "            Furnishings, Fixtures & Appliances     0.5955    0.7681    0.6709        69\n",
      "                                      Gambling     0.7600    0.9500    0.8444        20\n",
      "                    General Building Materials     0.0000    0.0000    0.0000         1\n",
      "                                          Gold     0.7108    0.7195    0.7152       164\n",
      "                                Grocery Stores     0.4211    0.5333    0.4706        15\n",
      "              Health Care Equipment & Services     0.0000    0.0000    0.0000         8\n",
      "                   Health Information Services     0.5932    0.6731    0.6306        52\n",
      "                              Healthcare Plans     0.0000    0.0000    0.0000         2\n",
      "                       Home Improvement Retail     0.7500    0.6000    0.6667        10\n",
      "                 Household & Personal Products     0.6970    0.7302    0.7132        63\n",
      "                       Industrial Distribution     0.3043    0.2121    0.2500        33\n",
      "               Information Technology Services     0.5446    0.4880    0.5148       125\n",
      "                     Infrastructure Operations     0.5769    0.6818    0.6250        22\n",
      "                             Insurance Brokers     0.3333    0.1667    0.2222         6\n",
      "                         Insurance—Diversified     0.4667    0.3684    0.4118        19\n",
      "                                Insurance—Life     0.4138    0.7500    0.5333        16\n",
      "                 Insurance—Property & Casualty     0.5417    0.9286    0.6842        14\n",
      "                         Insurance—Reinsurance     0.8750    1.0000    0.9333         7\n",
      "                           Insurance—Specialty     0.8000    0.4000    0.5333        10\n",
      "                Integrated Freight & Logistics     0.5745    0.7297    0.6429        37\n",
      "                Internet Content & Information     0.4074    0.4314    0.4190        51\n",
      "                               Internet Retail     0.4242    0.4000    0.4118        35\n",
      "                                       Leisure     0.5088    0.5577    0.5321        52\n",
      "                                       Lodging     0.5405    0.6897    0.6061        29\n",
      "                      Lumber & Wood Production     0.7647    0.8125    0.7879        16\n",
      "                                  Luxury Goods     0.7037    0.7037    0.7037        27\n",
      "                               Marine Shipping     0.7143    0.8654    0.7826        52\n",
      "                                     Materials     0.0000    0.0000    0.0000         5\n",
      "                         Media & Entertainment     0.0000    0.0000    0.0000         2\n",
      "                Medical Appliances & Equipment     0.0000    0.0000    0.0000         1\n",
      "                       Medical Care Facilities     0.7414    0.7288    0.7350        59\n",
      "                               Medical Devices     0.7143    0.7212    0.7177       104\n",
      "                          Medical Distribution     0.2000    0.1667    0.1818        12\n",
      "                Medical Instruments & Supplies     0.4043    0.3800    0.3918        50\n",
      "                             Metal Fabrication     0.2373    0.3256    0.2745        43\n",
      "                              Mortgage Finance     0.8235    0.7368    0.7778        19\n",
      "                            Oil & Gas Drilling     0.6667    0.6667    0.6667        12\n",
      "                                 Oil & Gas E&P     0.8779    0.8333    0.8550       138\n",
      "                Oil & Gas Equipment & Services     0.7429    0.5652    0.6420        46\n",
      "                          Oil & Gas Integrated     0.7000    0.5385    0.6087        13\n",
      "                           Oil & Gas Midstream     1.0000    0.5789    0.7333        19\n",
      "                Oil & Gas Refining & Marketing     0.3721    0.7619    0.5000        21\n",
      "              Other Industrial Metals & Mining     0.6964    0.6393    0.6667       305\n",
      "                Other Precious Metals & Mining     0.3012    0.3425    0.3205        73\n",
      "                                Packaged Foods     0.6894    0.6810    0.6852       163\n",
      "                        Packaging & Containers     0.7736    0.7455    0.7593        55\n",
      "                        Paper & Paper Products     0.7576    0.8929    0.8197        28\n",
      "                             Personal Services     0.3846    0.2632    0.3125        19\n",
      "                      Pharmaceutical Retailers     0.5238    0.5000    0.5116        22\n",
      "Pharmaceuticals, Biotechnology & Life Sciences     0.0000    0.0000    0.0000         3\n",
      "                Pollution & Treatment Controls     0.4419    0.5938    0.5067        32\n",
      "                                    Publishing     0.4545    0.6818    0.5455        22\n",
      "                              REIT—Diversified     0.2593    0.4375    0.3256        16\n",
      "                    REIT—Healthcare Facilities     1.0000    0.4000    0.5714         5\n",
      "                            REIT—Hotel & Motel     1.0000    1.0000    1.0000         6\n",
      "                               REIT—Industrial     0.8333    0.4545    0.5882        11\n",
      "                                 REIT—Mortgage     0.8182    1.0000    0.9000         9\n",
      "                                   REIT—Office     0.3750    0.3333    0.3529         9\n",
      "                              REIT—Residential     0.8333    0.8333    0.8333         6\n",
      "                                   REIT—Retail     0.7500    0.6000    0.6667        20\n",
      "                                REIT—Specialty     0.0000    0.0000    0.0000         6\n",
      "                                     Railroads     0.5926    0.8421    0.6957        19\n",
      "                                   Real Estate     0.0000    0.0000    0.0000         6\n",
      "                       Real Estate Development     0.0000    0.0000    0.0000         1\n",
      "                          Real Estate Services     0.4872    0.5000    0.4935       114\n",
      "                       Real Estate—Development     0.6715    0.6571    0.6643       140\n",
      "                       Real Estate—Diversified     0.2857    0.1395    0.1875        43\n",
      "                         Recreational Vehicles     0.3636    0.6667    0.4706         6\n",
      "                     Rental & Leasing Services     0.3913    0.4091    0.4000        22\n",
      "                      Residential Construction     0.4688    0.6522    0.5455        23\n",
      "                             Resorts & Casinos     0.6875    0.8462    0.7586        13\n",
      "                                   Restaurants     0.8148    0.8148    0.8148        54\n",
      "                                     Retailing     0.0000    0.0000    0.0000         6\n",
      "            Scientific & Technical Instruments     0.4630    0.5952    0.5208        42\n",
      "                Security & Protection Services     0.5745    0.7941    0.6667        34\n",
      "           Semiconductor Equipment & Materials     0.6875    0.5116    0.5867        43\n",
      "                                Semiconductors     0.6667    0.6885    0.6774        61\n",
      "      Semiconductors & Semiconductor Equipment     0.0000    0.0000    0.0000         2\n",
      "                               Shell Companies     0.9504    0.6734    0.7882       199\n",
      "                                        Silver     0.6471    0.9167    0.7586        12\n",
      "                           Software & Services     0.0000    0.0000    0.0000         4\n",
      "                     Software - Infrastructure     0.0000    0.0000    0.0000         1\n",
      "                          Software—Application     0.6101    0.4389    0.5105       221\n",
      "                       Software—Infrastructure     0.4321    0.4070    0.4192        86\n",
      "                                         Solar     0.4667    0.7778    0.5833        18\n",
      "                   Specialty Business Services     0.3750    0.2561    0.3043        82\n",
      "                           Specialty Chemicals     0.5789    0.4314    0.4944       153\n",
      "                Specialty Industrial Machinery     0.5891    0.3938    0.4720       193\n",
      "                              Specialty Retail     0.3500    0.2258    0.2745        62\n",
      "                Staffing & Employment Services     0.8065    0.8065    0.8065        31\n",
      "                                         Steel     0.7738    0.8228    0.7975        79\n",
      "                                  Steel & Iron     0.0000    0.0000    0.0000         1\n",
      "               Technology Hardware & Equipment     0.0000    0.0000    0.0000         5\n",
      "                              Telecom Services     0.6076    0.6761    0.6400        71\n",
      "                    Telecommunication Services     0.0000    0.0000    0.0000         1\n",
      "                            Textile Industrial     0.0000    0.0000    0.0000         1\n",
      "                         Textile Manufacturing     0.6977    0.8696    0.7742        69\n",
      "                                  Thermal Coal     0.7143    0.8696    0.7843        23\n",
      "                                       Tobacco     0.5263    0.8333    0.6452        12\n",
      "                           Tools & Accessories     0.3429    0.4800    0.4000        25\n",
      "                                Transportation     1.0000    0.1667    0.2857         6\n",
      "                               Travel Services     0.6087    0.7000    0.6512        20\n",
      "                                      Trucking     0.5333    0.5714    0.5517        14\n",
      "                                       Uranium     0.5769    0.9375    0.7143        16\n",
      "                                     Utilities     0.0000    0.0000    0.0000         3\n",
      "                         Utilities - Renewable     0.0000    0.0000    0.0000         1\n",
      "                         Utilities Diversified     0.0000    0.0000    0.0000         1\n",
      "                         Utilities—Diversified     0.2857    0.4286    0.3429        14\n",
      "         Utilities—Independent Power Producers     0.2353    0.2667    0.2500        15\n",
      "                  Utilities—Regulated Electric     0.6800    0.5667    0.6182        30\n",
      "                       Utilities—Regulated Gas     0.5000    0.7778    0.6087        18\n",
      "                     Utilities—Regulated Water     0.5909    0.7647    0.6667        17\n",
      "                           Utilities—Renewable     0.4783    0.6875    0.5641        48\n",
      "                              Waste Management     0.5714    0.7568    0.6512        37\n",
      "\n",
      "                                      accuracy                         0.6165      7615\n",
      "                                     macro avg     0.4765    0.5068    0.4782      7615\n",
      "                                  weighted avg     0.6269    0.6165    0.6139      7615\n",
      "\n"
     ]
    },
    {
     "name": "stderr",
     "output_type": "stream",
     "text": [
      "/Users/d.ark/anaconda3/lib/python3.10/site-packages/sklearn/metrics/_classification.py:1344: UndefinedMetricWarning: Precision and F-score are ill-defined and being set to 0.0 in labels with no predicted samples. Use `zero_division` parameter to control this behavior.\n",
      "  _warn_prf(average, modifier, msg_start, len(result))\n",
      "/Users/d.ark/anaconda3/lib/python3.10/site-packages/sklearn/metrics/_classification.py:1344: UndefinedMetricWarning: Precision and F-score are ill-defined and being set to 0.0 in labels with no predicted samples. Use `zero_division` parameter to control this behavior.\n",
      "  _warn_prf(average, modifier, msg_start, len(result))\n",
      "/Users/d.ark/anaconda3/lib/python3.10/site-packages/sklearn/metrics/_classification.py:1344: UndefinedMetricWarning: Precision and F-score are ill-defined and being set to 0.0 in labels with no predicted samples. Use `zero_division` parameter to control this behavior.\n",
      "  _warn_prf(average, modifier, msg_start, len(result))\n",
      "/Users/d.ark/anaconda3/lib/python3.10/site-packages/sklearn/metrics/_classification.py:1344: UndefinedMetricWarning: Precision and F-score are ill-defined and being set to 0.0 in labels with no predicted samples. Use `zero_division` parameter to control this behavior.\n",
      "  _warn_prf(average, modifier, msg_start, len(result))\n"
     ]
    }
   ],
   "source": [
    "import matplotlib.pyplot as plt\n",
    "from sklearn.metrics import classification_report, precision_recall_fscore_support\n",
    "\n",
    "# Assuming label_encoder_industry was used to encode 'y'\n",
    "classes = label_encoder_industry.classes_\n",
    "unique_labels = np.unique(y_test_industry)  # Unique labels in y_test\n",
    "\n",
    "# Get the target names for the unique labels only\n",
    "target_names = [classes[label] for label in unique_labels]\n",
    "\n",
    "# Calculate precision, recall, f1-score\n",
    "precision, recall, f1, _ = precision_recall_fscore_support(y_test_industry, y_pred_industry, labels=unique_labels, average=None)\n",
    "\n",
    "# Generate the classification report for the actual labels in y_test\n",
    "report = classification_report(y_test_industry, y_pred_industry, labels=unique_labels, target_names=target_names, digits= 4)\n",
    "print(report)\n"
   ]
  },
  {
   "cell_type": "markdown",
   "metadata": {},
   "source": [
    "Limited Data for Some Classes: For the classes with very few examples, the data failed to split into training and testing set. I exclude them in my model and final comparing resurlts. This might be a reseaon for the comparatively high accuracy here. "
   ]
  },
  {
   "cell_type": "markdown",
   "metadata": {},
   "source": [
    "I have used ChatGPT to aid the python syntax "
   ]
  }
 ],
 "metadata": {
  "kernelspec": {
   "display_name": "cs4262",
   "language": "python",
   "name": "cs4262"
  },
  "language_info": {
   "codemirror_mode": {
    "name": "ipython",
    "version": 3
   },
   "file_extension": ".py",
   "mimetype": "text/x-python",
   "name": "python",
   "nbconvert_exporter": "python",
   "pygments_lexer": "ipython3",
   "version": "3.10.9"
  },
  "orig_nbformat": 4
 },
 "nbformat": 4,
 "nbformat_minor": 2
}
